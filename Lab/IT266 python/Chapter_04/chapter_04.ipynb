{
 "cells": [
  {
   "cell_type": "markdown",
   "metadata": {},
   "source": [
    "Example 4.1: Write a program to demonstrate a function with and without arguments."
   ]
  },
  {
   "cell_type": "code",
   "execution_count": 1,
   "metadata": {},
   "outputs": [
    {
     "name": "stdout",
     "output_type": "stream",
     "text": [
      "This is a function definition with NO Argument\n",
      "This is a function definition with One Argument\n"
     ]
    }
   ],
   "source": [
    "def function_definition_with_no_argument():\n",
    "    print(\"This is a function definition with NO Argument\")\n",
    "\n",
    "def function_definition_with_one_argument(message):\n",
    "    print(f\"This is a function definition with {message}\")\n",
    "\n",
    "def main():\n",
    "    function_definition_with_no_argument()\n",
    "    function_definition_with_one_argument(\"One Argument\")\n",
    "\n",
    "if __name__ == \"__main__\":\n",
    "    main()      \n",
    "    "
   ]
  },
  {
   "cell_type": "markdown",
   "metadata": {},
   "source": [
    "Example 4.2: Program to find the area of trapezium using the formula area = (1/2) * (a + b) * h where a and b are the 2 bases of trapezium and h is the height."
   ]
  },
  {
   "cell_type": "code",
   "execution_count": null,
   "metadata": {},
   "outputs": [],
   "source": [
    "def area_trapezium(a, b, h):\n",
    "    area = 0.5 * (a + b) * h\n",
    "    print(f\"Area of a Trapezium is {area}\")\n",
    "\n",
    "def main():\n",
    "    area_trapezium(10, 15, 20)\n",
    "\n",
    "if __name__ == \"__main__\":\n",
    "    main()\n",
    "    "
   ]
  },
  {
   "cell_type": "markdown",
   "metadata": {},
   "source": [
    "Example 4.3: Write a program to demonstrate using the same variable name in calling function and function definition."
   ]
  },
  {
   "cell_type": "code",
   "execution_count": null,
   "metadata": {},
   "outputs": [],
   "source": [
    "god_name = input(\"Who is the God of Seas according to Greek Mythology?\")\n",
    "\n",
    "def greek_mythology(god_name1):\n",
    "    print(f\"The God of seas according to Greek Mythology is {god_name1}\")\n",
    "\n",
    "def main():\n",
    "    greek_mythology(god_name)\n",
    "\n",
    "if __name__ == \"__main__\":\n",
    "    main()    \n",
    "    "
   ]
  },
  {
   "cell_type": "markdown",
   "metadata": {},
   "source": [
    "Example 4.4: Write a program to demonstrate the return of multiple values from a function definition.\n"
   ]
  },
  {
   "cell_type": "code",
   "execution_count": null,
   "metadata": {},
   "outputs": [],
   "source": [
    "def world_war():\n",
    "    alliance_world_war = input(\"Which alliance won World War 2?\")\n",
    "    world_war_end_year = input(\"When did World War 2 end?\")\n",
    "    return alliance_world_war, world_war_end_year\n",
    "\n",
    "def main():\n",
    "    alliance, war_end_year = world_war()\n",
    "    print(f\"The war was won by {alliance} and the war ended in {war_end_year}\")\n",
    "\n",
    "if __name__ == \"__main__\":\n",
    "    main()  \n",
    "    "
   ]
  },
  {
   "cell_type": "markdown",
   "metadata": {},
   "source": [
    "Example 4.5: Calculate the value of sin(x) up to n terms using the series sin (x)= x/1! - x^3/3! + x^5/5! - x^7/7! +... where x is in degrees."
   ]
  },
  {
   "cell_type": "code",
   "execution_count": null,
   "metadata": {},
   "outputs": [],
   "source": [
    "import math\n",
    "\n",
    "degrees = int(input(\"Enter the degrees\"))\n",
    "nterms = int(input(\"Enter the number of terms\"))\n",
    "radians = degrees * math.pi / 180\n",
    "\n",
    "def calculate_sin():\n",
    "    result = 0\n",
    "    numerator = radians\n",
    "    denominator = 1\n",
    "    for i in range(1, nterms+1):\n",
    "        single_term = numerator / denominator\n",
    "        result = result + single_term\n",
    "        numerator = -numerator * radians * radians\n",
    "        denominator = denominator * (2 * i) * (2 * i + 1)\n",
    "    return result\n",
    "\n",
    "def main():\n",
    "    result = calculate_sin()\n",
    "    print(f\"value is sin(x) calculated using the series is {result} \")\n",
    "\n",
    "if __name__ == \"__main__\":\n",
    "    main()"
   ]
  },
  {
   "cell_type": "markdown",
   "metadata": {},
   "source": [
    "Example 4.6: Write a program to check if a 3 digit number is Armstrong number or not."
   ]
  },
  {
   "cell_type": "code",
   "execution_count": null,
   "metadata": {},
   "outputs": [],
   "source": [
    "user_number = int(input(\"Enter a 3 digit positive number to check for Armstrong number\"))\n",
    "\n",
    "def check_armstrong_number(number):\n",
    "    result = 0\n",
    "    temp = number\n",
    "    while temp != 0:\n",
    "        last_digit = temp % 10\n",
    "        result += pow(last_digit, 3)\n",
    "        temp = int(temp / 10)\n",
    "\n",
    "    if number == result:\n",
    "        print(f\"Entered number {number} is a Armstrong number\")\n",
    "    else:\n",
    "        print(f\"Entered number {number} is not a Armstrong number\")\n",
    "\n",
    "def main():\n",
    "    check_armstrong_number(user_number)\n",
    "\n",
    "if __name__ == \"__main__\":\n",
    "    main()"
   ]
  },
  {
   "cell_type": "markdown",
   "metadata": {},
   "source": [
    "Example 4.7: Write a program to demonstrate the scope of variables.\n"
   ]
  },
  {
   "cell_type": "code",
   "execution_count": null,
   "metadata": {},
   "outputs": [],
   "source": [
    "test_variable = 5\n",
    "\n",
    "def outer_function():\n",
    "    test_variable = 60\n",
    "\n",
    "    def inner_function():\n",
    "        test_variable = 100\n",
    "        print(f\"Local variable value of {test_variable} having local scope to inner function is displayed\")\n",
    "\n",
    "    inner_function()\n",
    "    print(f\"Local variable value of {test_variable} having local scope to outer function is displayed \")\n",
    "\n",
    "\n",
    "outer_function()\n",
    "print(f\"Global variable value of {test_variable} is displayed \")"
   ]
  },
  {
   "cell_type": "markdown",
   "metadata": {},
   "source": [
    "Example 4.8: Calculate and add the surface area of two cubes. Use nested functions."
   ]
  },
  {
   "cell_type": "code",
   "execution_count": null,
   "metadata": {},
   "outputs": [],
   "source": [
    "def add_cubes(a, b):\n",
    "   \n",
    "    def cube_surface_area(x):\n",
    "        return 6 * pow(x, 2)\n",
    "    \n",
    "    return cube_surface_area(a) + cube_surface_area(b)\n",
    "\n",
    "def main():\n",
    "    result = add_cubes(2, 3)\n",
    "    print(f\"The surface area after adding two Cubes is {result}\")\n",
    "\n",
    "if __name__ == \"__main__\":\n",
    "    main()\n"
   ]
  },
  {
   "cell_type": "markdown",
   "metadata": {},
   "source": [
    "Example 4.9: Write a program to demonstrate the use of default parameters."
   ]
  },
  {
   "cell_type": "code",
   "execution_count": null,
   "metadata": {},
   "outputs": [],
   "source": [
    "def work_area(prompt, domain=\"Data Analytics\"):\n",
    "    print(f\"{prompt} {domain}\")\n",
    "\n",
    "def main():\n",
    "    work_area(\"Sam works in\")\n",
    "    work_area(\"Alice has interest in\", \"Internet of Things\")\n",
    "\n",
    "if __name__ == \"__main__\":\n",
    "    main()\n"
   ]
  },
  {
   "cell_type": "markdown",
   "metadata": {},
   "source": [
    "Example 4.10: Write a program to demonstrate the use of keyword arguments."
   ]
  },
  {
   "cell_type": "code",
   "execution_count": 24,
   "metadata": {},
   "outputs": [
    {
     "name": "stdout",
     "output_type": "stream",
     "text": [
      "This parrot wouldn't voom, if you put a thousand, volts through it.\n",
      "Lovely plumage, the Norwegian Blue\n",
      "It's pushing up the daisies !!!\n"
     ]
    }
   ],
   "source": [
    "def parrot(voltage, state='a stiff', action='voom', type='Norwegian Blue'):\n",
    "    \n",
    "    print(f\"This parrot wouldn't {action}, if you put {voltage}, volts through it.\")\n",
    "    \n",
    "    print(f\"Lovely plumage, the {type}\")\n",
    "    \n",
    "    print(f\"It's {state} !!!\")\n",
    "\n",
    "    \n",
    "#parrot(1000)\n",
    "\n",
    "#parrot(voltage=1000)\n",
    "\n",
    "#parrot(voltage=1000000, action='VOOOOOM')\n",
    "\n",
    "parrot('a thousand', state='pushing up the daisies')"
   ]
  },
  {
   "cell_type": "markdown",
   "metadata": {},
   "source": [
    "Example 4.11: Write a program to Demonstrate the Use of *args and * *kwargs"
   ]
  },
  {
   "cell_type": "code",
   "execution_count": null,
   "metadata": {},
   "outputs": [],
   "source": [
    "def cheese_shop(kind, *args, **kwargs):\n",
    "    print(f\"Do you have any {kind} ?\")\n",
    "    print(f\"I'm sorry, we're all out of {kind}\")\n",
    "\n",
    "    for arg in args:\n",
    "        print(arg)\n",
    "        print(\"-\" * 40)\n",
    "\n",
    "    for kw in kwargs:\n",
    "        print(kw, \":\", kwargs[kw])\n",
    "\n",
    "def main():\n",
    "    cheese_shop(\"Limburger\", \"It's very runny, sir.\",\\\n",
    "                \"It's really very, VERY runny, sir.\",\\\n",
    "                shop_keeper=\"Michael Palin\",\\\n",
    "                client=\"John Cleese\",\\\n",
    "                sketch=\"Cheese Shop Sketch\")\n",
    "\n",
    "if __name__ == \"__main__\":\n",
    "    main()\n"
   ]
  },
  {
   "cell_type": "markdown",
   "metadata": {},
   "source": [
    "Example 4.12: Write a program to demonstrate command line arguments in python.\n"
   ]
  },
  {
   "cell_type": "code",
   "execution_count": null,
   "metadata": {},
   "outputs": [],
   "source": [
    "import sys\n",
    "\n",
    "def main():\n",
    "    print(f\"sys.argv prints all the arguments at the command line including filename {sys.argv}\")\n",
    "    print(f\"len(sys.argv) prints the total number of command line arguments including file name {len(sys.argv)}\")\n",
    "    print(\"You can use for loop to traverse through sys.argv\")\n",
    "    for arg in sys.argv:\n",
    "        print(arg)\n",
    "\n",
    "if __name__ == \"__main__\":\n",
    "    main()\n"
   ]
  }
 ],
 "metadata": {
  "kernelspec": {
   "display_name": "Python 3",
   "language": "python",
   "name": "python3"
  },
  "language_info": {
   "codemirror_mode": {
    "name": "ipython",
    "version": 3
   },
   "file_extension": ".py",
   "mimetype": "text/x-python",
   "name": "python",
   "nbconvert_exporter": "python",
   "pygments_lexer": "ipython3",
   "version": "3.10.2"
  }
 },
 "nbformat": 4,
 "nbformat_minor": 4
}
